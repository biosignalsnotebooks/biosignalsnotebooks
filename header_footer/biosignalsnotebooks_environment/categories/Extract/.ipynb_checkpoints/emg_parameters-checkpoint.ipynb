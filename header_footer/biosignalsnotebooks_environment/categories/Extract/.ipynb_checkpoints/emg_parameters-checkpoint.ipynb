{
 "cells": [
  {
   "cell_type": "markdown",
   "metadata": {
    "tags": [
     "intro_info_title"
    ]
   },
   "source": [
    "<link rel=\"stylesheet\" href=\"../../styles/theme_style.css\">\n",
    "<!--link rel=\"stylesheet\" href=\"../../styles/header_style.css\"-->\n",
    "<link rel=\"stylesheet\" href=\"https://cdnjs.cloudflare.com/ajax/libs/font-awesome/4.7.0/css/font-awesome.min.css\">\n",
    "\n",
    "<table width=\"100%\">\n",
    "    <tr>\n",
    "        <td id=\"image_td\" width=\"15%\" class=\"header_image_color_6\"><div id=\"image_img\" class=\"header_image_6\"></div></td>\n",
    "        <td class=\"header_text\"> EMG Analysis - Time and Frequency Parameters </td>\n",
    "    </tr>\n",
    "</table>"
   ]
  },
  {
   "cell_type": "markdown",
   "metadata": {
    "tags": [
     "intro_info_tags"
    ]
   },
   "source": [
    "<div id=\"flex-container\">\n",
    "    <div id=\"diff_level\" class=\"flex-item\">\n",
    "        <strong>Difficulty Level:</strong>   <span class=\"fa fa-star checked\"></span>\n",
    "                                <span class=\"fa fa-star checked\"></span>\n",
    "                                <span class=\"fa fa-star\"></span>\n",
    "                                <span class=\"fa fa-star\"></span>\n",
    "                                <span class=\"fa fa-star\"></span>\n",
    "    </div>\n",
    "    <div id=\"tag\" class=\"flex-item-tag\">\n",
    "        <span id=\"tag_list\">\n",
    "            <table id=\"tag_list_table\">\n",
    "                <tr>\n",
    "                    <td class=\"shield_left\">Tags</td>\n",
    "                    <td class=\"shield_right\" id=\"tags\">extract&#9729;emg&#9729;muscular-activations</td> \n",
    "                </tr>\n",
    "            </table>\n",
    "        </span>\n",
    "        <!-- [OR] Visit https://img.shields.io in order to create a tag badge-->\n",
    "    </div>\n",
    "</div>"
   ]
  },
  {
   "cell_type": "markdown",
   "metadata": {},
   "source": [
    "Muscles perform an essential role on movement, postural control and in the vital cardiorespiratory functions.\n",
    "These three examples have something in common, which is, the origin of the muscular contraction is in the nervous impulse that reaches the muscle, triggering a sequence of physiological mechanisms that ultimately cause the muscle contraction.\n",
    "\n",
    "In the last example (muscle in vital cardiorespiratory processes), myocardium (cardiac muscle) functions in an involuntary way, under the coordination of the autonomic nervous system.\n",
    "\n",
    "The previously mentioned nervous impulse and the respective changes in electric potential can be monitored by ECG acquisition and analysis. \n",
    "\n",
    "However, for movement and postural control, another type of muscle goes into action, the skeletal muscle. In contrast to cardiac muscle, the action of skeletal muscles is voluntary, causing drastic differences in EMG signal when comparing to ECG, namely the inexistence of natural periodicity.\n",
    "\n",
    "In this **<span class=\"color5\">Jupyter Notebook</span>** it will be explained how some parameters can be extracted from EMG, both from time and frequency domain.\n",
    "\n",
    "**List of EMG analysis parameters:**\n",
    "+ Number of Muscular Activations;\n",
    "+ Maximum, Minimum and Average duration of muscular activations;\n",
    "+ Minimum, Maximum, Average and Standard Deviation values of EMG samples;\n",
    "+ Root Mean Square (RMS) and Area under curve;\n",
    "+ Total Power, Maximum Frequency and Median Frequency;"
   ]
  },
  {
   "cell_type": "markdown",
   "metadata": {},
   "source": [
    "<hr>"
   ]
  },
  {
   "cell_type": "markdown",
   "metadata": {},
   "source": [
    "<p class=\"steps\">1 - Importation of the needed packages</p>"
   ]
  },
  {
   "cell_type": "code",
   "execution_count": null,
   "metadata": {
    "tags": [
     "hide_out"
    ]
   },
   "outputs": [],
   "source": [
    "# biosignalsnotebooks python package\n",
    "import biosignalsnotebooks as bsnb\n",
    "\n",
    "# Scientific packages\n",
    "from numpy import linspace, max, min, average, std, sum, sqrt, where, argmax\n",
    "from scipy.integrate import cumtrapz\n",
    "from scipy.signal import welch"
   ]
  },
  {
   "cell_type": "markdown",
   "metadata": {},
   "source": [
    "<p class=\"steps\">2 - Load of acquired EMG data</p>"
   ]
  },
  {
   "cell_type": "code",
   "execution_count": null,
   "metadata": {},
   "outputs": [],
   "source": [
    "# Load of data\n",
    "data, header = bsnb.load_signal(\"emg_bursts\", get_header=True)"
   ]
  },
  {
   "cell_type": "markdown",
   "metadata": {},
   "source": [
    "<p class=\"steps\">3 - Identification of mac address of the device and the channel used during acquisition</p>"
   ]
  },
  {
   "cell_type": "code",
   "execution_count": null,
   "metadata": {},
   "outputs": [],
   "source": [
    "channel = list(data.keys())[0]\n",
    "device = header[\"device\"]\n",
    "resolution = int(header[\"resolution\"][0])"
   ]
  },
  {
   "cell_type": "code",
   "execution_count": null,
   "metadata": {
    "tags": [
     "hide_in"
    ]
   },
   "outputs": [],
   "source": [
    "from sty import fg, rs\n",
    "print (fg(98,195,238) + \"\\033[1mDevice: \\033[0m\" + fg.rs + device + fg(98,195,238) + \"\\033[1m Channel: \\033[0m\" + fg.rs + str(channel) + fg(98,195,238) + \"\\033[1m Resolution: \\033[0m\" + fg.rs + str(resolution) + \" bits\")"
   ]
  },
  {
   "cell_type": "markdown",
   "metadata": {},
   "source": [
    "<p class=\"steps\">4 - Storage of sampling frequency and acquired data inside variables</p>"
   ]
  },
  {
   "cell_type": "code",
   "execution_count": null,
   "metadata": {},
   "outputs": [],
   "source": [
    "# Sampling frequency and acquired data\n",
    "fs = header[\"sampling rate\"]\n",
    "\n",
    "# Signal Samples\n",
    "signal = bsnb.raw_to_phy(\"EMG\", device, data[channel], resolution, option=\"mV\") # Conversion to mV\n",
    "time = linspace(0, len(signal) / fs, len(signal))"
   ]
  },
  {
   "cell_type": "markdown",
   "metadata": {},
   "source": [
    "<p class=\"steps\">5 -EMG parameter extraction\n",
    "<br>5.1 -Detection and accounting of muscular activations</p>"
   ]
  },
  {
   "cell_type": "code",
   "execution_count": null,
   "metadata": {},
   "outputs": [],
   "source": [
    "burst_begin, burst_end = bsnb.detect_emg_activations(signal, fs, smooth_level=20, threshold_level=10, \n",
    "                                                     time_units=True, plot_result=True)[:2]"
   ]
  },
  {
   "cell_type": "code",
   "execution_count": null,
   "metadata": {
    "tags": [
     "hide_in"
    ]
   },
   "outputs": [],
   "source": [
    "# Number of activation periods\n",
    "print (fg(98,195,238) + \"\\033[1mNumber of Muscular Activations: \\033[0m\" + fg.rs + str(len(burst_begin)))"
   ]
  },
  {
   "cell_type": "markdown",
   "metadata": {},
   "source": [
    "<p class=\"steps\">5.2 -Maximum, Minimum and Average duration of muscular activation periods</p>"
   ]
  },
  {
   "cell_type": "code",
   "execution_count": null,
   "metadata": {},
   "outputs": [],
   "source": [
    "# Bursts Duration\n",
    "bursts_time = burst_end - burst_begin\n",
    "\n",
    "# Parameter extraction\n",
    "max_time = max(bursts_time)\n",
    "min_time = min(bursts_time)\n",
    "avg_time = average(bursts_time)\n",
    "std_time = std(bursts_time)"
   ]
  },
  {
   "cell_type": "code",
   "execution_count": null,
   "metadata": {
    "tags": [
     "hide_in"
    ]
   },
   "outputs": [],
   "source": [
    "print (fg(98,195,238) + \"\\033[1m[Maximum, Minimum, Average] duration of Muscular Activations \\033[0m\" + fg.rs + \" = [\" + str(max_time) + \", \" + str(min_time) + \", \" + str(avg_time) + \"] s\")\n",
    "print (fg(98,195,238) + \"\\033[1mStandard Deviation \\033[0m\" + fg.rs + \"= \" + str(std_time) + \" s\")"
   ]
  },
  {
   "cell_type": "code",
   "execution_count": null,
   "metadata": {
    "tags": [
     "hide_in"
    ]
   },
   "outputs": [],
   "source": [
    "bsnb.plot_emg_graphical_durations(max_time, min_time, avg_time, std_time)"
   ]
  },
  {
   "cell_type": "markdown",
   "metadata": {},
   "source": [
    "<p class=\"steps\">5.3 - Maximum, Minimum, Average and Standard Deviation of EMG sample values</p>"
   ]
  },
  {
   "cell_type": "code",
   "execution_count": null,
   "metadata": {},
   "outputs": [],
   "source": [
    "# Maximum\n",
    "max_sample_value = max(signal)\n",
    "\n",
    "# Minimum\n",
    "min_sample_value = min(signal)\n",
    "\n",
    "# Average and Standard Deviation\n",
    "avg_sample_value = average(signal)\n",
    "std_sample_value = std(signal)\n",
    "\n",
    "time_param_dict = {\"Maximum EMG\": max_sample_value, \"Minimum EMG\": min_sample_value, \n",
    "                   \"Average EMG\": avg_sample_value, \"Standard Deviation EMG\": std_sample_value}"
   ]
  },
  {
   "cell_type": "code",
   "execution_count": null,
   "metadata": {
    "tags": [
     "hide_in"
    ]
   },
   "outputs": [],
   "source": [
    "print (fg(98,195,238) + \"\\033[1m[Maximum, Minimum, Average, Standard Deviation] mV \\033[0m\" + fg.rs + \" = [\" + str(max_sample_value) + \", \" + str(min_sample_value) + \", \" + str(avg_sample_value) + \", \" + str(std_sample_value) + \"] mV\")"
   ]
  },
  {
   "cell_type": "code",
   "execution_count": null,
   "metadata": {
    "tags": [
     "hide_in"
    ]
   },
   "outputs": [],
   "source": [
    "bsnb.plot_emg_graphical_statistical(time, signal, max_sample_value, min_sample_value, avg_sample_value, std_sample_value)"
   ]
  },
  {
   "cell_type": "markdown",
   "metadata": {},
   "source": [
    "<p class=\"steps\">5.4 - Root Mean Square and Area under the curve (Signal Intensity Estimators)</p>"
   ]
  },
  {
   "cell_type": "code",
   "execution_count": null,
   "metadata": {},
   "outputs": [],
   "source": [
    "# Root Mean Square\n",
    "rms = sqrt(sum(signal * signal) / len(signal))\n",
    "\n",
    "# Area under the curve\n",
    "area = cumtrapz(signal)"
   ]
  },
  {
   "cell_type": "code",
   "execution_count": null,
   "metadata": {
    "tags": [
     "hide_in"
    ]
   },
   "outputs": [],
   "source": [
    "print (fg(98,195,238) + \"\\033[1mRoot Mean Square \\033[0m\" + fg.rs + \" = \" + str(rms) + \" mV\")\n",
    "print (fg(98,195,238) + \"\\033[1mArea \\033[0m\" + fg.rs + \" = \" + str(area[-1]) + \" mV.s\")"
   ]
  },
  {
   "cell_type": "code",
   "execution_count": null,
   "metadata": {
    "tags": [
     "hide_in"
    ]
   },
   "outputs": [],
   "source": [
    "bsnb.plot_emg_rms_area(time, signal, rms, area)"
   ]
  },
  {
   "cell_type": "markdown",
   "metadata": {},
   "source": [
    "<p class=\"steps\">5.5 - Total power and some reference points on the frequency domain</p>"
   ]
  },
  {
   "cell_type": "code",
   "execution_count": null,
   "metadata": {},
   "outputs": [],
   "source": [
    "# Signal Power Spectrum\n",
    "f, P = welch(signal, fs=fs, window='hanning', noverlap=0, nfft=int(256.))\n",
    "\n",
    "# Total Power and Median Frequency (Frequency that divides the spectrum into two regions with equal power)\n",
    "area_freq = cumtrapz(P, f, initial=0)\n",
    "total_power = area_freq[-1]\n",
    "median_freq = f[where(area_freq >= total_power / 2)[0][0]]\n",
    "f_max = f[argmax(P)]"
   ]
  },
  {
   "cell_type": "code",
   "execution_count": null,
   "metadata": {
    "tags": [
     "hide_in"
    ]
   },
   "outputs": [],
   "source": [
    "print (fg(98,195,238) + \"\\033[1mTotal Power \\033[0m\" + fg.rs + \" = \" + str(total_power))\n",
    "print (fg(98,195,238) + \"\\033[1m[Median Frequency, Maximum Power Frequency] \\033[0m\" + fg.rs + \" = [\" + str(median_freq) + \", \" + str(f_max) + \"] Hz\")"
   ]
  },
  {
   "cell_type": "code",
   "execution_count": null,
   "metadata": {
    "tags": [
     "hide_in"
    ]
   },
   "outputs": [],
   "source": [
    "bsnb.plot_emg_spect_freq(f, P, f_max, median_freq)"
   ]
  },
  {
   "cell_type": "markdown",
   "metadata": {},
   "source": [
    "*This procedure can be automatically done by **emg_parameters** function in **extract** module of **<span class=\"color2\">biosignalsnotebooks</span>** package*"
   ]
  },
  {
   "cell_type": "code",
   "execution_count": null,
   "metadata": {},
   "outputs": [],
   "source": [
    "bsnb.emg_parameters(signal, fs, raw_to_mv=False)"
   ]
  },
  {
   "cell_type": "markdown",
   "metadata": {},
   "source": [
    "This set of parameters reveals interesting information about EMG signal, however you can extract much more features during your signal processing journey !\n",
    "\n",
    "<strong><span class=\"color7\">We hope that you have enjoyed this guide. </span><span class=\"color2\">biosignalsnotebooks</span><span class=\"color4\"> is an environment in continuous expansion, so don't stop your journey and learn more with the remaining <a href=\"../MainFiles/biosignalsnotebooks.ipynb\">Notebooks <img src=\"../../images/icons/link.png\" width=\"10px\" height=\"10px\" style=\"display:inline\"></a></span></strong> ! "
   ]
  },
  {
   "cell_type": "markdown",
   "metadata": {
    "tags": [
     "hide_mark",
     "aux"
    ]
   },
   "source": [
    "<span class=\"color6\">**Auxiliary Code Segment (should not be replicated by the user)**</span>"
   ]
  },
  {
   "cell_type": "code",
   "execution_count": null,
   "metadata": {
    "tags": [
     "hide_both"
    ]
   },
   "outputs": [],
   "source": [
    "from biosignalsnotebooks.__notebook_support__ import css_style_apply\n",
    "css_style_apply()"
   ]
  },
  {
   "cell_type": "code",
   "execution_count": null,
   "metadata": {
    "tags": [
     "hide_both"
    ]
   },
   "outputs": [],
   "source": [
    "%%html\n",
    "<script>\n",
    "    // AUTORUN ALL CELLS ON NOTEBOOK-LOAD!\n",
    "    require(\n",
    "        ['base/js/namespace', 'jquery'],\n",
    "        function(jupyter, $) {\n",
    "            $(jupyter.events).on(\"kernel_ready.Kernel\", function () {\n",
    "                console.log(\"Auto-running all cells-below...\");\n",
    "                jupyter.actions.call('jupyter-notebook:run-all-cells-below');\n",
    "                jupyter.actions.call('jupyter-notebook:save-notebook');\n",
    "            });\n",
    "        }\n",
    "    );\n",
    "</script>"
   ]
  }
 ],
 "metadata": {
  "celltoolbar": "Tags",
  "kernelspec": {
   "display_name": "Python 3",
   "language": "python",
   "name": "python3"
  },
  "language_info": {
   "codemirror_mode": {
    "name": "ipython",
    "version": 3
   },
   "file_extension": ".py",
   "mimetype": "text/x-python",
   "name": "python",
   "nbconvert_exporter": "python",
   "pygments_lexer": "ipython3",
   "version": "3.7.2"
  }
 },
 "nbformat": 4,
 "nbformat_minor": 2
}
